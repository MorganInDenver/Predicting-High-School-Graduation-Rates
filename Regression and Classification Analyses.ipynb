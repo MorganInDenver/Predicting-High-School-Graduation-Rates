{
 "cells": [
  {
   "cell_type": "markdown",
   "metadata": {},
   "source": [
    "# Predicting Graduation Rates - Regression and Classification "
   ]
  },
  {
   "cell_type": "markdown",
   "metadata": {},
   "source": [
    "## What's in this Notebook\n",
    "\n",
    "Regression and Classification models. I tried a variety of models and found pretty similar results in terms of:\n",
    "\n",
    "* inability to predict graduation rates very well, and \n",
    "* similar features identified as most important for predicting (such as it is) graduation rates"
   ]
  },
  {
   "cell_type": "code",
   "execution_count": 4,
   "metadata": {
    "collapsed": true
   },
   "outputs": [],
   "source": [
    "import pandas as pd\n",
    "import numpy as np\n",
    "import matplotlib.pyplot as plt\n",
    "%matplotlib inline\n",
    "import seaborn as sns\n",
    "from sklearn.linear_model import LinearRegression\n",
    "from sklearn.model_selection import train_test_split, GridSearchCV, cross_val_score\n",
    "from sklearn.preprocessing import StandardScaler\n",
    "from sklearn import linear_model\n",
    "from sklearn.linear_model import Ridge, Lasso, ElasticNet, LinearRegression, RidgeCV, LassoCV, ElasticNetCV"
   ]
  },
  {
   "cell_type": "code",
   "execution_count": 6,
   "metadata": {},
   "outputs": [],
   "source": [
    "grad = pd.read_csv('./grad2.csv')"
   ]
  },
  {
   "cell_type": "markdown",
   "metadata": {},
   "source": [
    "## Regression and Classifiction Models\n",
    "I chose features that correlated .10 or greater with the ALL_RATE_1112 variable.  I tried variables models, lineary with regularlization, decision tree regression, bagging, and random forest, all with pretty similar results. R-squared never got much above .20, but the top features definitely showed some similarity in terms of the features that were most important. \n"
   ]
  },
  {
   "cell_type": "code",
   "execution_count": 201,
   "metadata": {
    "collapsed": true
   },
   "outputs": [],
   "source": [
    "#acs variables\n",
    "y = grad['ALL_RATE_1112']\n",
    "features = ['Med_HHD_Inc_ACS_08_12', 'pct_Tot_Occp_Units_ACS_08_12', 'pct_Tot_Occp_Units_CEN_2010',\n",
    "            'pct_College_ACS_08_12','pct_MrdCple_HHD_CEN_2010','pct_MrdCple_HHD_ACS_08_12',\n",
    "            'pct_URBANIZED_AREA_POP_CEN_2010','pct_Civ_emp_16p_ACS_08_12','pct_Civ_emp_25_44_ACS_08_12',\n",
    "            'pct_Rel_Family_HHD_ACS_08_12','pct_Rel_Family_HHDS_CEN_2010','pct_Owner_Occp_HU_CEN_2010',\n",
    "            'pct_Owner_Occp_HU_ACS_08_12','pct_Civ_emp_16_24_ACS_08_12','pct_US_Cit_Nat_ACS_08_12',\n",
    "            'pct_Civ_unemp_16_24_ACS_08_12','pct_Renter_Occp_HU_ACS_08_12','pct_Renter_Occp_HU_CEN_2010',\n",
    "            'pct_NO_PH_SRVC_ACS_08_12','pct_NonFamily_HHD_CEN_2010','pct_NonFamily_HHD_ACS_08_12',\n",
    "            'pct_Sngl_Prns_HHD_ACS_08_12','pct_Sngl_Prns_HHD_CEN_2010','pct_Civ_unemp_25_44_ACS_08_12',\n",
    "            'pct_Civ_unemp_16p_ACS_08_12','pct_Female_No_HB_ACS_08_12','pct_Crowd_Occp_U_ACS_08_12',\n",
    "            'pct_Female_No_HB_CEN_2010','pct_PUB_ASST_INC_ACS_08_12','pct_Mobile_Homes_ACS_08_12',\n",
    "            'pct_Not_MrdCple_HHD_ACS_08_12','pct_RURAL_POP_CEN_2010','pct_Not_HS_Grad_ACS_08_12',\n",
    "            'pct_Not_MrdCple_HHD_CEN_2010','pct_Vacant_Units_CEN_2010','pct_Prs_Blw_Pov_Lev_ACS_08_12', \n",
    "            'pct_Vacant_Units_ACS_08_12','pct_No_Plumb_ACS_08_12']\n",
    "X = features_to_use[features]"
   ]
  },
  {
   "cell_type": "code",
   "execution_count": 202,
   "metadata": {
    "collapsed": true
   },
   "outputs": [],
   "source": [
    "X_train, X_test, y_train, y_test = train_test_split(X, y, test_size = .4, random_state = 42)"
   ]
  },
  {
   "cell_type": "code",
   "execution_count": 203,
   "metadata": {
    "collapsed": true
   },
   "outputs": [],
   "source": [
    "ss = StandardScaler()\n",
    "X_train_scaled = ss.fit_transform(X_train)\n",
    "X_test_scaled = ss.transform(X_test)"
   ]
  },
  {
   "cell_type": "markdown",
   "metadata": {},
   "source": [
    "### Linear Regression\n",
    "Initial cross-validation score on the ACS variables is pretty low, .18. \n",
    "\n",
    "The r-squared values were very low, in the .17 to .21 range. I tried Lasso and Ridge regularlization on the ACS variables, with no improvement. \n",
    "\n",
    "The RMSE was 10.8, so on average I would be off 10.8% in predicting graduation rates, which is huge. \n",
    "\n",
    "I decided to go forward with other types of analyses, just assuming that there are so many other factors that go into whether or not someone will graduate from high school that are not captured by census data. "
   ]
  },
  {
   "cell_type": "code",
   "execution_count": 204,
   "metadata": {},
   "outputs": [
    {
     "data": {
      "text/plain": [
       "0.18198111616394871"
      ]
     },
     "execution_count": 204,
     "metadata": {},
     "output_type": "execute_result"
    }
   ],
   "source": [
    "lr = LinearRegression()\n",
    "cross_val_score(lr, X_train_scaled, y_train).mean()"
   ]
  },
  {
   "cell_type": "code",
   "execution_count": 205,
   "metadata": {},
   "outputs": [
    {
     "data": {
      "text/plain": [
       "0.20428609677296805"
      ]
     },
     "execution_count": 205,
     "metadata": {},
     "output_type": "execute_result"
    }
   ],
   "source": [
    "lr = linear_model.LinearRegression()\n",
    "lr.fit(X_train_scaled, y_train)\n",
    "lr.score(X_train_scaled, y_train)"
   ]
  },
  {
   "cell_type": "code",
   "execution_count": 206,
   "metadata": {},
   "outputs": [
    {
     "data": {
      "text/plain": [
       "0.1887447354486944"
      ]
     },
     "execution_count": 206,
     "metadata": {},
     "output_type": "execute_result"
    }
   ],
   "source": [
    "lr.fit(X_test_scaled, y_test)\n",
    "lr.score(X_test_scaled, y_test)"
   ]
  },
  {
   "cell_type": "markdown",
   "metadata": {},
   "source": [
    "Ridge regularization on the ACS variables - Did not improve the R2"
   ]
  },
  {
   "cell_type": "code",
   "execution_count": 207,
   "metadata": {
    "collapsed": true
   },
   "outputs": [],
   "source": [
    "r_alphas = np.logspace(0, 5, 200) #creates 200 alphas\n",
    "coefs = [] #want to save all coefs when running the models\n",
    "for alpha in r_alphas:\n",
    "    model = Ridge(alpha = alpha)\n",
    "    model.fit(X_test_scaled, y_test)\n",
    "    coefs.append(model.coef_)"
   ]
  },
  {
   "cell_type": "code",
   "execution_count": 208,
   "metadata": {},
   "outputs": [
    {
     "data": {
      "text/plain": [
       "0.18442727322089136"
      ]
     },
     "execution_count": 208,
     "metadata": {},
     "output_type": "execute_result"
    }
   ],
   "source": [
    "best_ridge = RidgeCV(alphas = r_alphas)\n",
    "best_ridge.fit(X_test_scaled, y_test)\n",
    "best_ridge.score(X_test_scaled, y_test)"
   ]
  },
  {
   "cell_type": "markdown",
   "metadata": {},
   "source": [
    "Lasso regularlization on the ACS variables - also did not improve the R2"
   ]
  },
  {
   "cell_type": "code",
   "execution_count": 209,
   "metadata": {},
   "outputs": [
    {
     "name": "stderr",
     "output_type": "stream",
     "text": [
      "/Users/Morgan2/anaconda3/lib/python3.6/site-packages/sklearn/linear_model/coordinate_descent.py:491: ConvergenceWarning: Objective did not converge. You might want to increase the number of iterations. Fitting data with very small alpha may cause precision problems.\n",
      "  ConvergenceWarning)\n"
     ]
    }
   ],
   "source": [
    "l_alphas = np.arange(.001, .15, .0025) #starts at .001, skips .0025, ends at .15\n",
    "coefs = []\n",
    "for alpha in l_alphas:\n",
    "    model = Lasso(alpha = alpha)\n",
    "    model.fit(X_test_scaled, y_test)\n",
    "    coefs.append(model.coef_)"
   ]
  },
  {
   "cell_type": "code",
   "execution_count": 210,
   "metadata": {},
   "outputs": [
    {
     "data": {
      "text/plain": [
       "0.18553771987141032"
      ]
     },
     "execution_count": 210,
     "metadata": {},
     "output_type": "execute_result"
    }
   ],
   "source": [
    "best_lasso = LassoCV(alphas = l_alphas)\n",
    "best_lasso.fit(X_test_scaled, y_test)\n",
    "best_lasso.score(X_test_scaled, y_test)"
   ]
  },
  {
   "cell_type": "code",
   "execution_count": 211,
   "metadata": {
    "scrolled": true
   },
   "outputs": [
    {
     "data": {
      "text/html": [
       "<div>\n",
       "<style>\n",
       "    .dataframe thead tr:only-child th {\n",
       "        text-align: right;\n",
       "    }\n",
       "\n",
       "    .dataframe thead th {\n",
       "        text-align: left;\n",
       "    }\n",
       "\n",
       "    .dataframe tbody tr th {\n",
       "        vertical-align: top;\n",
       "    }\n",
       "</style>\n",
       "<table border=\"1\" class=\"dataframe\">\n",
       "  <thead>\n",
       "    <tr style=\"text-align: right;\">\n",
       "      <th></th>\n",
       "      <th>coef</th>\n",
       "      <th>features</th>\n",
       "    </tr>\n",
       "  </thead>\n",
       "  <tbody>\n",
       "    <tr>\n",
       "      <th>13</th>\n",
       "      <td>5.958058e+08</td>\n",
       "      <td>pct_Civ_emp_16_24_ACS_08_12</td>\n",
       "    </tr>\n",
       "    <tr>\n",
       "      <th>15</th>\n",
       "      <td>5.958058e+08</td>\n",
       "      <td>pct_Civ_unemp_16_24_ACS_08_12</td>\n",
       "    </tr>\n",
       "    <tr>\n",
       "      <th>24</th>\n",
       "      <td>4.560099e+07</td>\n",
       "      <td>pct_Civ_unemp_16p_ACS_08_12</td>\n",
       "    </tr>\n",
       "    <tr>\n",
       "      <th>7</th>\n",
       "      <td>4.560099e+07</td>\n",
       "      <td>pct_Civ_emp_16p_ACS_08_12</td>\n",
       "    </tr>\n",
       "    <tr>\n",
       "      <th>19</th>\n",
       "      <td>4.465945e+03</td>\n",
       "      <td>pct_NonFamily_HHD_CEN_2010</td>\n",
       "    </tr>\n",
       "    <tr>\n",
       "      <th>10</th>\n",
       "      <td>4.460650e+03</td>\n",
       "      <td>pct_Rel_Family_HHDS_CEN_2010</td>\n",
       "    </tr>\n",
       "    <tr>\n",
       "      <th>27</th>\n",
       "      <td>1.319462e+00</td>\n",
       "      <td>pct_Female_No_HB_CEN_2010</td>\n",
       "    </tr>\n",
       "    <tr>\n",
       "      <th>32</th>\n",
       "      <td>5.645553e-01</td>\n",
       "      <td>pct_Not_HS_Grad_ACS_08_12</td>\n",
       "    </tr>\n",
       "    <tr>\n",
       "      <th>25</th>\n",
       "      <td>5.547102e-01</td>\n",
       "      <td>pct_Female_No_HB_ACS_08_12</td>\n",
       "    </tr>\n",
       "    <tr>\n",
       "      <th>18</th>\n",
       "      <td>4.801840e-01</td>\n",
       "      <td>pct_NO_PH_SRVC_ACS_08_12</td>\n",
       "    </tr>\n",
       "    <tr>\n",
       "      <th>0</th>\n",
       "      <td>3.550722e-01</td>\n",
       "      <td>Med_HHD_Inc_ACS_08_12</td>\n",
       "    </tr>\n",
       "    <tr>\n",
       "      <th>3</th>\n",
       "      <td>1.870406e-01</td>\n",
       "      <td>pct_College_ACS_08_12</td>\n",
       "    </tr>\n",
       "    <tr>\n",
       "      <th>21</th>\n",
       "      <td>9.692170e-02</td>\n",
       "      <td>pct_Sngl_Prns_HHD_ACS_08_12</td>\n",
       "    </tr>\n",
       "    <tr>\n",
       "      <th>14</th>\n",
       "      <td>-7.088828e-02</td>\n",
       "      <td>pct_US_Cit_Nat_ACS_08_12</td>\n",
       "    </tr>\n",
       "    <tr>\n",
       "      <th>29</th>\n",
       "      <td>-3.072269e-01</td>\n",
       "      <td>pct_Mobile_Homes_ACS_08_12</td>\n",
       "    </tr>\n",
       "    <tr>\n",
       "      <th>26</th>\n",
       "      <td>-4.975467e-01</td>\n",
       "      <td>pct_Crowd_Occp_U_ACS_08_12</td>\n",
       "    </tr>\n",
       "    <tr>\n",
       "      <th>28</th>\n",
       "      <td>-7.975939e-01</td>\n",
       "      <td>pct_PUB_ASST_INC_ACS_08_12</td>\n",
       "    </tr>\n",
       "    <tr>\n",
       "      <th>22</th>\n",
       "      <td>-9.914133e-01</td>\n",
       "      <td>pct_Sngl_Prns_HHD_CEN_2010</td>\n",
       "    </tr>\n",
       "    <tr>\n",
       "      <th>6</th>\n",
       "      <td>-1.230672e+00</td>\n",
       "      <td>pct_URBANIZED_AREA_POP_CEN_2010</td>\n",
       "    </tr>\n",
       "    <tr>\n",
       "      <th>35</th>\n",
       "      <td>-1.341579e+00</td>\n",
       "      <td>pct_Prs_Blw_Pov_Lev_ACS_08_12</td>\n",
       "    </tr>\n",
       "    <tr>\n",
       "      <th>37</th>\n",
       "      <td>-1.570078e+00</td>\n",
       "      <td>pct_No_Plumb_ACS_08_12</td>\n",
       "    </tr>\n",
       "    <tr>\n",
       "      <th>31</th>\n",
       "      <td>-2.697857e+00</td>\n",
       "      <td>pct_RURAL_POP_CEN_2010</td>\n",
       "    </tr>\n",
       "    <tr>\n",
       "      <th>2</th>\n",
       "      <td>-4.440745e+03</td>\n",
       "      <td>pct_Tot_Occp_Units_CEN_2010</td>\n",
       "    </tr>\n",
       "    <tr>\n",
       "      <th>34</th>\n",
       "      <td>-4.441475e+03</td>\n",
       "      <td>pct_Vacant_Units_CEN_2010</td>\n",
       "    </tr>\n",
       "    <tr>\n",
       "      <th>4</th>\n",
       "      <td>-9.679873e+03</td>\n",
       "      <td>pct_MrdCple_HHD_CEN_2010</td>\n",
       "    </tr>\n",
       "    <tr>\n",
       "      <th>33</th>\n",
       "      <td>-9.685840e+03</td>\n",
       "      <td>pct_Not_MrdCple_HHD_CEN_2010</td>\n",
       "    </tr>\n",
       "    <tr>\n",
       "      <th>11</th>\n",
       "      <td>-4.134680e+04</td>\n",
       "      <td>pct_Owner_Occp_HU_CEN_2010</td>\n",
       "    </tr>\n",
       "    <tr>\n",
       "      <th>17</th>\n",
       "      <td>-4.134737e+04</td>\n",
       "      <td>pct_Renter_Occp_HU_CEN_2010</td>\n",
       "    </tr>\n",
       "    <tr>\n",
       "      <th>8</th>\n",
       "      <td>-1.232478e+08</td>\n",
       "      <td>pct_Civ_emp_25_44_ACS_08_12</td>\n",
       "    </tr>\n",
       "    <tr>\n",
       "      <th>23</th>\n",
       "      <td>-1.232478e+08</td>\n",
       "      <td>pct_Civ_unemp_25_44_ACS_08_12</td>\n",
       "    </tr>\n",
       "    <tr>\n",
       "      <th>9</th>\n",
       "      <td>-4.085109e+08</td>\n",
       "      <td>pct_Rel_Family_HHD_ACS_08_12</td>\n",
       "    </tr>\n",
       "    <tr>\n",
       "      <th>20</th>\n",
       "      <td>-4.085109e+08</td>\n",
       "      <td>pct_NonFamily_HHD_ACS_08_12</td>\n",
       "    </tr>\n",
       "    <tr>\n",
       "      <th>1</th>\n",
       "      <td>-5.813456e+08</td>\n",
       "      <td>pct_Tot_Occp_Units_ACS_08_12</td>\n",
       "    </tr>\n",
       "    <tr>\n",
       "      <th>36</th>\n",
       "      <td>-5.813456e+08</td>\n",
       "      <td>pct_Vacant_Units_ACS_08_12</td>\n",
       "    </tr>\n",
       "    <tr>\n",
       "      <th>16</th>\n",
       "      <td>-9.214100e+08</td>\n",
       "      <td>pct_Renter_Occp_HU_ACS_08_12</td>\n",
       "    </tr>\n",
       "    <tr>\n",
       "      <th>12</th>\n",
       "      <td>-9.214100e+08</td>\n",
       "      <td>pct_Owner_Occp_HU_ACS_08_12</td>\n",
       "    </tr>\n",
       "    <tr>\n",
       "      <th>5</th>\n",
       "      <td>-9.375155e+08</td>\n",
       "      <td>pct_MrdCple_HHD_ACS_08_12</td>\n",
       "    </tr>\n",
       "    <tr>\n",
       "      <th>30</th>\n",
       "      <td>-9.375155e+08</td>\n",
       "      <td>pct_Not_MrdCple_HHD_ACS_08_12</td>\n",
       "    </tr>\n",
       "  </tbody>\n",
       "</table>\n",
       "</div>"
      ],
      "text/plain": [
       "            coef                         features\n",
       "13  5.958058e+08      pct_Civ_emp_16_24_ACS_08_12\n",
       "15  5.958058e+08    pct_Civ_unemp_16_24_ACS_08_12\n",
       "24  4.560099e+07      pct_Civ_unemp_16p_ACS_08_12\n",
       "7   4.560099e+07        pct_Civ_emp_16p_ACS_08_12\n",
       "19  4.465945e+03       pct_NonFamily_HHD_CEN_2010\n",
       "10  4.460650e+03     pct_Rel_Family_HHDS_CEN_2010\n",
       "27  1.319462e+00        pct_Female_No_HB_CEN_2010\n",
       "32  5.645553e-01        pct_Not_HS_Grad_ACS_08_12\n",
       "25  5.547102e-01       pct_Female_No_HB_ACS_08_12\n",
       "18  4.801840e-01         pct_NO_PH_SRVC_ACS_08_12\n",
       "0   3.550722e-01            Med_HHD_Inc_ACS_08_12\n",
       "3   1.870406e-01            pct_College_ACS_08_12\n",
       "21  9.692170e-02      pct_Sngl_Prns_HHD_ACS_08_12\n",
       "14 -7.088828e-02         pct_US_Cit_Nat_ACS_08_12\n",
       "29 -3.072269e-01       pct_Mobile_Homes_ACS_08_12\n",
       "26 -4.975467e-01       pct_Crowd_Occp_U_ACS_08_12\n",
       "28 -7.975939e-01       pct_PUB_ASST_INC_ACS_08_12\n",
       "22 -9.914133e-01       pct_Sngl_Prns_HHD_CEN_2010\n",
       "6  -1.230672e+00  pct_URBANIZED_AREA_POP_CEN_2010\n",
       "35 -1.341579e+00    pct_Prs_Blw_Pov_Lev_ACS_08_12\n",
       "37 -1.570078e+00           pct_No_Plumb_ACS_08_12\n",
       "31 -2.697857e+00           pct_RURAL_POP_CEN_2010\n",
       "2  -4.440745e+03      pct_Tot_Occp_Units_CEN_2010\n",
       "34 -4.441475e+03        pct_Vacant_Units_CEN_2010\n",
       "4  -9.679873e+03         pct_MrdCple_HHD_CEN_2010\n",
       "33 -9.685840e+03     pct_Not_MrdCple_HHD_CEN_2010\n",
       "11 -4.134680e+04       pct_Owner_Occp_HU_CEN_2010\n",
       "17 -4.134737e+04      pct_Renter_Occp_HU_CEN_2010\n",
       "8  -1.232478e+08      pct_Civ_emp_25_44_ACS_08_12\n",
       "23 -1.232478e+08    pct_Civ_unemp_25_44_ACS_08_12\n",
       "9  -4.085109e+08     pct_Rel_Family_HHD_ACS_08_12\n",
       "20 -4.085109e+08      pct_NonFamily_HHD_ACS_08_12\n",
       "1  -5.813456e+08     pct_Tot_Occp_Units_ACS_08_12\n",
       "36 -5.813456e+08       pct_Vacant_Units_ACS_08_12\n",
       "16 -9.214100e+08     pct_Renter_Occp_HU_ACS_08_12\n",
       "12 -9.214100e+08      pct_Owner_Occp_HU_ACS_08_12\n",
       "5  -9.375155e+08        pct_MrdCple_HHD_ACS_08_12\n",
       "30 -9.375155e+08    pct_Not_MrdCple_HHD_ACS_08_12"
      ]
     },
     "execution_count": 211,
     "metadata": {},
     "output_type": "execute_result"
    }
   ],
   "source": [
    "# Coefficients from the ACS variables\n",
    "coef_df = pd.DataFrame(lr.coef_, columns = ['coef'])\n",
    "coef_df['features'] = features\n",
    "coef_df.sort_values('coef', ascending = False)"
   ]
  },
  {
   "cell_type": "code",
   "execution_count": 212,
   "metadata": {},
   "outputs": [
    {
     "data": {
      "text/plain": [
       "array([83.33889259, 86.52761969, 88.0706558 , ..., 85.25863462,\n",
       "       83.79911158, 86.04868686])"
      ]
     },
     "execution_count": 212,
     "metadata": {},
     "output_type": "execute_result"
    }
   ],
   "source": [
    "predictions  =  model.predict(X_test_scaled)\n",
    "predictions"
   ]
  },
  {
   "cell_type": "markdown",
   "metadata": {},
   "source": [
    "The root mean squared error tells me that on average I am off by 10% in predicting graduation rates, which is pretty dang terrible. "
   ]
  },
  {
   "cell_type": "code",
   "execution_count": 213,
   "metadata": {},
   "outputs": [
    {
     "data": {
      "text/plain": [
       "10.828608054448994"
      ]
     },
     "execution_count": 213,
     "metadata": {},
     "output_type": "execute_result"
    }
   ],
   "source": [
    "from sklearn.metrics import mean_squared_error\n",
    "\n",
    "np.sqrt(mean_squared_error(y_test, predictions))"
   ]
  },
  {
   "cell_type": "markdown",
   "metadata": {},
   "source": [
    "### Decision Tree Regression Modeling"
   ]
  },
  {
   "cell_type": "code",
   "execution_count": 214,
   "metadata": {
    "collapsed": true
   },
   "outputs": [],
   "source": [
    "from sklearn.tree import DecisionTreeRegressor, DecisionTreeClassifier\n",
    "from sklearn.model_selection import GridSearchCV\n",
    "\n",
    "dtr_params = {\n",
    "    'max_depth':[None,1,2,3,4],\n",
    "    'max_features':[None,'log2','sqrt',2,3,4,5],\n",
    "    'min_samples_split':[2,3,4,5,10,15,20,25,30,40,50]\n",
    "}\n",
    "\n",
    "dtr_gs = GridSearchCV(DecisionTreeRegressor(), dtr_params, cv=5, verbose=1)"
   ]
  },
  {
   "cell_type": "code",
   "execution_count": 215,
   "metadata": {},
   "outputs": [
    {
     "name": "stdout",
     "output_type": "stream",
     "text": [
      "Fitting 5 folds for each of 385 candidates, totalling 1925 fits\n",
      "{'max_depth': 4, 'max_features': 5, 'min_samples_split': 5}\n",
      "0.15849667836740677\n"
     ]
    },
    {
     "name": "stderr",
     "output_type": "stream",
     "text": [
      "[Parallel(n_jobs=1)]: Done 1925 out of 1925 | elapsed:   43.6s finished\n"
     ]
    }
   ],
   "source": [
    "dtr_gs.fit(X_train, y_train)\n",
    "print(dtr_gs.best_params_)\n",
    "print(dtr_gs.best_score_)"
   ]
  },
  {
   "cell_type": "code",
   "execution_count": 216,
   "metadata": {},
   "outputs": [
    {
     "data": {
      "text/plain": [
       "0.13071473804439238"
      ]
     },
     "execution_count": 216,
     "metadata": {},
     "output_type": "execute_result"
    }
   ],
   "source": [
    "dtr_gs.score(X_test, y_test)"
   ]
  },
  {
   "cell_type": "markdown",
   "metadata": {},
   "source": [
    "These are the features that came out as most important by the Decision Tree Regressor."
   ]
  },
  {
   "cell_type": "code",
   "execution_count": 217,
   "metadata": {
    "scrolled": true
   },
   "outputs": [
    {
     "data": {
      "text/html": [
       "<div>\n",
       "<style>\n",
       "    .dataframe thead tr:only-child th {\n",
       "        text-align: right;\n",
       "    }\n",
       "\n",
       "    .dataframe thead th {\n",
       "        text-align: left;\n",
       "    }\n",
       "\n",
       "    .dataframe tbody tr th {\n",
       "        vertical-align: top;\n",
       "    }\n",
       "</style>\n",
       "<table border=\"1\" class=\"dataframe\">\n",
       "  <thead>\n",
       "    <tr style=\"text-align: right;\">\n",
       "      <th></th>\n",
       "      <th>feature</th>\n",
       "      <th>importance</th>\n",
       "    </tr>\n",
       "  </thead>\n",
       "  <tbody>\n",
       "    <tr>\n",
       "      <th>0</th>\n",
       "      <td>Med_HHD_Inc_ACS_08_12</td>\n",
       "      <td>0.378640</td>\n",
       "    </tr>\n",
       "    <tr>\n",
       "      <th>34</th>\n",
       "      <td>pct_Vacant_Units_CEN_2010</td>\n",
       "      <td>0.207369</td>\n",
       "    </tr>\n",
       "    <tr>\n",
       "      <th>27</th>\n",
       "      <td>pct_Female_No_HB_CEN_2010</td>\n",
       "      <td>0.147216</td>\n",
       "    </tr>\n",
       "    <tr>\n",
       "      <th>3</th>\n",
       "      <td>pct_College_ACS_08_12</td>\n",
       "      <td>0.100970</td>\n",
       "    </tr>\n",
       "    <tr>\n",
       "      <th>28</th>\n",
       "      <td>pct_PUB_ASST_INC_ACS_08_12</td>\n",
       "      <td>0.027867</td>\n",
       "    </tr>\n",
       "    <tr>\n",
       "      <th>31</th>\n",
       "      <td>pct_RURAL_POP_CEN_2010</td>\n",
       "      <td>0.027150</td>\n",
       "    </tr>\n",
       "    <tr>\n",
       "      <th>4</th>\n",
       "      <td>pct_MrdCple_HHD_CEN_2010</td>\n",
       "      <td>0.026174</td>\n",
       "    </tr>\n",
       "    <tr>\n",
       "      <th>2</th>\n",
       "      <td>pct_Tot_Occp_Units_CEN_2010</td>\n",
       "      <td>0.020818</td>\n",
       "    </tr>\n",
       "    <tr>\n",
       "      <th>22</th>\n",
       "      <td>pct_Sngl_Prns_HHD_CEN_2010</td>\n",
       "      <td>0.015224</td>\n",
       "    </tr>\n",
       "    <tr>\n",
       "      <th>24</th>\n",
       "      <td>pct_Civ_unemp_16p_ACS_08_12</td>\n",
       "      <td>0.013854</td>\n",
       "    </tr>\n",
       "    <tr>\n",
       "      <th>37</th>\n",
       "      <td>pct_No_Plumb_ACS_08_12</td>\n",
       "      <td>0.012802</td>\n",
       "    </tr>\n",
       "    <tr>\n",
       "      <th>36</th>\n",
       "      <td>pct_Vacant_Units_ACS_08_12</td>\n",
       "      <td>0.012236</td>\n",
       "    </tr>\n",
       "    <tr>\n",
       "      <th>12</th>\n",
       "      <td>pct_Owner_Occp_HU_ACS_08_12</td>\n",
       "      <td>0.009681</td>\n",
       "    </tr>\n",
       "    <tr>\n",
       "      <th>11</th>\n",
       "      <td>pct_Owner_Occp_HU_CEN_2010</td>\n",
       "      <td>0.000000</td>\n",
       "    </tr>\n",
       "    <tr>\n",
       "      <th>25</th>\n",
       "      <td>pct_Female_No_HB_ACS_08_12</td>\n",
       "      <td>0.000000</td>\n",
       "    </tr>\n",
       "    <tr>\n",
       "      <th>35</th>\n",
       "      <td>pct_Prs_Blw_Pov_Lev_ACS_08_12</td>\n",
       "      <td>0.000000</td>\n",
       "    </tr>\n",
       "    <tr>\n",
       "      <th>5</th>\n",
       "      <td>pct_MrdCple_HHD_ACS_08_12</td>\n",
       "      <td>0.000000</td>\n",
       "    </tr>\n",
       "    <tr>\n",
       "      <th>33</th>\n",
       "      <td>pct_Not_MrdCple_HHD_CEN_2010</td>\n",
       "      <td>0.000000</td>\n",
       "    </tr>\n",
       "    <tr>\n",
       "      <th>32</th>\n",
       "      <td>pct_Not_HS_Grad_ACS_08_12</td>\n",
       "      <td>0.000000</td>\n",
       "    </tr>\n",
       "    <tr>\n",
       "      <th>6</th>\n",
       "      <td>pct_URBANIZED_AREA_POP_CEN_2010</td>\n",
       "      <td>0.000000</td>\n",
       "    </tr>\n",
       "    <tr>\n",
       "      <th>30</th>\n",
       "      <td>pct_Not_MrdCple_HHD_ACS_08_12</td>\n",
       "      <td>0.000000</td>\n",
       "    </tr>\n",
       "    <tr>\n",
       "      <th>29</th>\n",
       "      <td>pct_Mobile_Homes_ACS_08_12</td>\n",
       "      <td>0.000000</td>\n",
       "    </tr>\n",
       "    <tr>\n",
       "      <th>7</th>\n",
       "      <td>pct_Civ_emp_16p_ACS_08_12</td>\n",
       "      <td>0.000000</td>\n",
       "    </tr>\n",
       "    <tr>\n",
       "      <th>8</th>\n",
       "      <td>pct_Civ_emp_25_44_ACS_08_12</td>\n",
       "      <td>0.000000</td>\n",
       "    </tr>\n",
       "    <tr>\n",
       "      <th>26</th>\n",
       "      <td>pct_Crowd_Occp_U_ACS_08_12</td>\n",
       "      <td>0.000000</td>\n",
       "    </tr>\n",
       "    <tr>\n",
       "      <th>9</th>\n",
       "      <td>pct_Rel_Family_HHD_ACS_08_12</td>\n",
       "      <td>0.000000</td>\n",
       "    </tr>\n",
       "    <tr>\n",
       "      <th>23</th>\n",
       "      <td>pct_Civ_unemp_25_44_ACS_08_12</td>\n",
       "      <td>0.000000</td>\n",
       "    </tr>\n",
       "    <tr>\n",
       "      <th>10</th>\n",
       "      <td>pct_Rel_Family_HHDS_CEN_2010</td>\n",
       "      <td>0.000000</td>\n",
       "    </tr>\n",
       "    <tr>\n",
       "      <th>21</th>\n",
       "      <td>pct_Sngl_Prns_HHD_ACS_08_12</td>\n",
       "      <td>0.000000</td>\n",
       "    </tr>\n",
       "    <tr>\n",
       "      <th>20</th>\n",
       "      <td>pct_NonFamily_HHD_ACS_08_12</td>\n",
       "      <td>0.000000</td>\n",
       "    </tr>\n",
       "    <tr>\n",
       "      <th>1</th>\n",
       "      <td>pct_Tot_Occp_Units_ACS_08_12</td>\n",
       "      <td>0.000000</td>\n",
       "    </tr>\n",
       "    <tr>\n",
       "      <th>18</th>\n",
       "      <td>pct_NO_PH_SRVC_ACS_08_12</td>\n",
       "      <td>0.000000</td>\n",
       "    </tr>\n",
       "    <tr>\n",
       "      <th>17</th>\n",
       "      <td>pct_Renter_Occp_HU_CEN_2010</td>\n",
       "      <td>0.000000</td>\n",
       "    </tr>\n",
       "    <tr>\n",
       "      <th>16</th>\n",
       "      <td>pct_Renter_Occp_HU_ACS_08_12</td>\n",
       "      <td>0.000000</td>\n",
       "    </tr>\n",
       "    <tr>\n",
       "      <th>15</th>\n",
       "      <td>pct_Civ_unemp_16_24_ACS_08_12</td>\n",
       "      <td>0.000000</td>\n",
       "    </tr>\n",
       "    <tr>\n",
       "      <th>14</th>\n",
       "      <td>pct_US_Cit_Nat_ACS_08_12</td>\n",
       "      <td>0.000000</td>\n",
       "    </tr>\n",
       "    <tr>\n",
       "      <th>13</th>\n",
       "      <td>pct_Civ_emp_16_24_ACS_08_12</td>\n",
       "      <td>0.000000</td>\n",
       "    </tr>\n",
       "    <tr>\n",
       "      <th>19</th>\n",
       "      <td>pct_NonFamily_HHD_CEN_2010</td>\n",
       "      <td>0.000000</td>\n",
       "    </tr>\n",
       "  </tbody>\n",
       "</table>\n",
       "</div>"
      ],
      "text/plain": [
       "                            feature  importance\n",
       "0             Med_HHD_Inc_ACS_08_12    0.378640\n",
       "34        pct_Vacant_Units_CEN_2010    0.207369\n",
       "27        pct_Female_No_HB_CEN_2010    0.147216\n",
       "3             pct_College_ACS_08_12    0.100970\n",
       "28       pct_PUB_ASST_INC_ACS_08_12    0.027867\n",
       "31           pct_RURAL_POP_CEN_2010    0.027150\n",
       "4          pct_MrdCple_HHD_CEN_2010    0.026174\n",
       "2       pct_Tot_Occp_Units_CEN_2010    0.020818\n",
       "22       pct_Sngl_Prns_HHD_CEN_2010    0.015224\n",
       "24      pct_Civ_unemp_16p_ACS_08_12    0.013854\n",
       "37           pct_No_Plumb_ACS_08_12    0.012802\n",
       "36       pct_Vacant_Units_ACS_08_12    0.012236\n",
       "12      pct_Owner_Occp_HU_ACS_08_12    0.009681\n",
       "11       pct_Owner_Occp_HU_CEN_2010    0.000000\n",
       "25       pct_Female_No_HB_ACS_08_12    0.000000\n",
       "35    pct_Prs_Blw_Pov_Lev_ACS_08_12    0.000000\n",
       "5         pct_MrdCple_HHD_ACS_08_12    0.000000\n",
       "33     pct_Not_MrdCple_HHD_CEN_2010    0.000000\n",
       "32        pct_Not_HS_Grad_ACS_08_12    0.000000\n",
       "6   pct_URBANIZED_AREA_POP_CEN_2010    0.000000\n",
       "30    pct_Not_MrdCple_HHD_ACS_08_12    0.000000\n",
       "29       pct_Mobile_Homes_ACS_08_12    0.000000\n",
       "7         pct_Civ_emp_16p_ACS_08_12    0.000000\n",
       "8       pct_Civ_emp_25_44_ACS_08_12    0.000000\n",
       "26       pct_Crowd_Occp_U_ACS_08_12    0.000000\n",
       "9      pct_Rel_Family_HHD_ACS_08_12    0.000000\n",
       "23    pct_Civ_unemp_25_44_ACS_08_12    0.000000\n",
       "10     pct_Rel_Family_HHDS_CEN_2010    0.000000\n",
       "21      pct_Sngl_Prns_HHD_ACS_08_12    0.000000\n",
       "20      pct_NonFamily_HHD_ACS_08_12    0.000000\n",
       "1      pct_Tot_Occp_Units_ACS_08_12    0.000000\n",
       "18         pct_NO_PH_SRVC_ACS_08_12    0.000000\n",
       "17      pct_Renter_Occp_HU_CEN_2010    0.000000\n",
       "16     pct_Renter_Occp_HU_ACS_08_12    0.000000\n",
       "15    pct_Civ_unemp_16_24_ACS_08_12    0.000000\n",
       "14         pct_US_Cit_Nat_ACS_08_12    0.000000\n",
       "13      pct_Civ_emp_16_24_ACS_08_12    0.000000\n",
       "19       pct_NonFamily_HHD_CEN_2010    0.000000"
      ]
     },
     "execution_count": 217,
     "metadata": {},
     "output_type": "execute_result"
    }
   ],
   "source": [
    "dtr_best = dtr_gs.best_estimator_\n",
    "best_features = dtr_best.feature_importances_\n",
    "pd.DataFrame(best_features)\n",
    "fi = pd.DataFrame({\n",
    "        'feature':X.columns,\n",
    "        'importance':dtr_best.feature_importances_\n",
    "    })\n",
    "\n",
    "fi.sort_values('importance', ascending=False, inplace=True)\n",
    "fi"
   ]
  },
  {
   "cell_type": "code",
   "execution_count": 218,
   "metadata": {
    "collapsed": true
   },
   "outputs": [],
   "source": [
    "y = grad['ALL_RATE_1112']\n",
    "important_features = ['pct_Tot_Occp_Units_CEN_2010',\n",
    "'pct_Female_No_HB_CEN_2010',\n",
    "'Med_HHD_Inc_ACS_08_12',\n",
    "'pct_PUB_ASST_INC_ACS_08_12',\n",
    "'pct_No_Plumb_ACS_08_12',\n",
    "'pct_College_ACS_08_12',\n",
    "'pct_Crowd_Occp_U_ACS_08_12',\n",
    "'pct_Civ_emp_16p_ACS_08_12']\n",
    "X2 = features_to_use[important_features]"
   ]
  },
  {
   "cell_type": "markdown",
   "metadata": {},
   "source": [
    "### Ensemble Models"
   ]
  },
  {
   "cell_type": "markdown",
   "metadata": {},
   "source": [
    "### Bagging\n",
    "I only remembered after I did this model that I cannot look at feature importances with a Bagging model. "
   ]
  },
  {
   "cell_type": "code",
   "execution_count": 219,
   "metadata": {},
   "outputs": [
    {
     "name": "stdout",
     "output_type": "stream",
     "text": [
      "0.19299298855441277\n"
     ]
    },
    {
     "data": {
      "text/plain": [
       "{'max_samples': 0.5, 'n_estimators': 25}"
      ]
     },
     "execution_count": 219,
     "metadata": {},
     "output_type": "execute_result"
    }
   ],
   "source": [
    "from sklearn.ensemble import BaggingRegressor, RandomForestRegressor, RandomForestClassifier\n",
    "\n",
    "bag = BaggingRegressor(random_state=42)\n",
    "bag_params = {\n",
    "#    'base_estimator': [None, LogisticRegression()], #default is decision tree, can include others\n",
    "#    'base_estimator__penalty': ['l1', 'l2']\n",
    "#    'base_estimator__criterion' ['gini', 'entropy'] # use this if using DecisionTreeClassifier\n",
    "    'n_estimators': [5,10, 15, 20, 25], #number of trees\n",
    "    'max_samples': [.5, 1.0], #.5 means each tree gets half the rows\n",
    "    \n",
    "}\n",
    "gs_bag = GridSearchCV(bag, bag_params)\n",
    "gs_bag.fit(X_train, y_train)\n",
    "print(gs_bag.best_score_)\n",
    "gs_bag.best_params_"
   ]
  },
  {
   "cell_type": "code",
   "execution_count": 220,
   "metadata": {},
   "outputs": [
    {
     "data": {
      "text/plain": [
       "0.24416352228059712"
      ]
     },
     "execution_count": 220,
     "metadata": {},
     "output_type": "execute_result"
    }
   ],
   "source": [
    "gs_bag.score(X_test, y_test)"
   ]
  },
  {
   "cell_type": "markdown",
   "metadata": {
    "collapsed": true
   },
   "source": [
    "### Random Forest Regressor"
   ]
  },
  {
   "cell_type": "code",
   "execution_count": 221,
   "metadata": {},
   "outputs": [
    {
     "name": "stdout",
     "output_type": "stream",
     "text": [
      "0.1992321445661966\n",
      "{'max_depth': None, 'max_features': 'log2', 'n_estimators': 25}\n"
     ]
    }
   ],
   "source": [
    "rf = RandomForestRegressor(random_state = 42)\n",
    "rf_params ={\n",
    "    'n_estimators': [5, 10, 15, 20, 25],\n",
    "    'max_depth': [None, 1, 2, 3],\n",
    "    'max_features': ['auto', 'log2'],\n",
    "}\n",
    "gs_rf = GridSearchCV(rf, rf_params)\n",
    "gs_rf.fit(X_train, y_train)\n",
    "print(gs_rf.best_score_)\n",
    "print(gs_rf.best_params_)"
   ]
  },
  {
   "cell_type": "code",
   "execution_count": 222,
   "metadata": {},
   "outputs": [
    {
     "data": {
      "text/plain": [
       "0.23669522553306"
      ]
     },
     "execution_count": 222,
     "metadata": {},
     "output_type": "execute_result"
    }
   ],
   "source": [
    "gs_rf.score(X_test, y_test)"
   ]
  },
  {
   "cell_type": "markdown",
   "metadata": {},
   "source": [
    "These are the feature importances from the random forest model. Interesting how this model assigns importance values to many more features than the decision tree model above. I guess this is because the random forest model uses different combination of features, so ends up keeping more of them. "
   ]
  },
  {
   "cell_type": "code",
   "execution_count": 223,
   "metadata": {
    "scrolled": true
   },
   "outputs": [
    {
     "data": {
      "text/html": [
       "<div>\n",
       "<style>\n",
       "    .dataframe thead tr:only-child th {\n",
       "        text-align: right;\n",
       "    }\n",
       "\n",
       "    .dataframe thead th {\n",
       "        text-align: left;\n",
       "    }\n",
       "\n",
       "    .dataframe tbody tr th {\n",
       "        vertical-align: top;\n",
       "    }\n",
       "</style>\n",
       "<table border=\"1\" class=\"dataframe\">\n",
       "  <thead>\n",
       "    <tr style=\"text-align: right;\">\n",
       "      <th></th>\n",
       "      <th>feature</th>\n",
       "      <th>importance</th>\n",
       "    </tr>\n",
       "  </thead>\n",
       "  <tbody>\n",
       "    <tr>\n",
       "      <th>27</th>\n",
       "      <td>pct_Female_No_HB_CEN_2010</td>\n",
       "      <td>0.052376</td>\n",
       "    </tr>\n",
       "    <tr>\n",
       "      <th>36</th>\n",
       "      <td>pct_Vacant_Units_ACS_08_12</td>\n",
       "      <td>0.047912</td>\n",
       "    </tr>\n",
       "    <tr>\n",
       "      <th>1</th>\n",
       "      <td>pct_Tot_Occp_Units_ACS_08_12</td>\n",
       "      <td>0.045944</td>\n",
       "    </tr>\n",
       "    <tr>\n",
       "      <th>2</th>\n",
       "      <td>pct_Tot_Occp_Units_CEN_2010</td>\n",
       "      <td>0.041215</td>\n",
       "    </tr>\n",
       "    <tr>\n",
       "      <th>32</th>\n",
       "      <td>pct_Not_HS_Grad_ACS_08_12</td>\n",
       "      <td>0.036655</td>\n",
       "    </tr>\n",
       "    <tr>\n",
       "      <th>35</th>\n",
       "      <td>pct_Prs_Blw_Pov_Lev_ACS_08_12</td>\n",
       "      <td>0.036091</td>\n",
       "    </tr>\n",
       "    <tr>\n",
       "      <th>37</th>\n",
       "      <td>pct_No_Plumb_ACS_08_12</td>\n",
       "      <td>0.034098</td>\n",
       "    </tr>\n",
       "    <tr>\n",
       "      <th>34</th>\n",
       "      <td>pct_Vacant_Units_CEN_2010</td>\n",
       "      <td>0.033056</td>\n",
       "    </tr>\n",
       "    <tr>\n",
       "      <th>3</th>\n",
       "      <td>pct_College_ACS_08_12</td>\n",
       "      <td>0.030686</td>\n",
       "    </tr>\n",
       "    <tr>\n",
       "      <th>24</th>\n",
       "      <td>pct_Civ_unemp_16p_ACS_08_12</td>\n",
       "      <td>0.029888</td>\n",
       "    </tr>\n",
       "    <tr>\n",
       "      <th>7</th>\n",
       "      <td>pct_Civ_emp_16p_ACS_08_12</td>\n",
       "      <td>0.029389</td>\n",
       "    </tr>\n",
       "    <tr>\n",
       "      <th>4</th>\n",
       "      <td>pct_MrdCple_HHD_CEN_2010</td>\n",
       "      <td>0.029356</td>\n",
       "    </tr>\n",
       "    <tr>\n",
       "      <th>33</th>\n",
       "      <td>pct_Not_MrdCple_HHD_CEN_2010</td>\n",
       "      <td>0.027173</td>\n",
       "    </tr>\n",
       "    <tr>\n",
       "      <th>25</th>\n",
       "      <td>pct_Female_No_HB_ACS_08_12</td>\n",
       "      <td>0.026970</td>\n",
       "    </tr>\n",
       "    <tr>\n",
       "      <th>26</th>\n",
       "      <td>pct_Crowd_Occp_U_ACS_08_12</td>\n",
       "      <td>0.026612</td>\n",
       "    </tr>\n",
       "    <tr>\n",
       "      <th>22</th>\n",
       "      <td>pct_Sngl_Prns_HHD_CEN_2010</td>\n",
       "      <td>0.026429</td>\n",
       "    </tr>\n",
       "    <tr>\n",
       "      <th>28</th>\n",
       "      <td>pct_PUB_ASST_INC_ACS_08_12</td>\n",
       "      <td>0.026348</td>\n",
       "    </tr>\n",
       "    <tr>\n",
       "      <th>0</th>\n",
       "      <td>Med_HHD_Inc_ACS_08_12</td>\n",
       "      <td>0.026079</td>\n",
       "    </tr>\n",
       "    <tr>\n",
       "      <th>29</th>\n",
       "      <td>pct_Mobile_Homes_ACS_08_12</td>\n",
       "      <td>0.023246</td>\n",
       "    </tr>\n",
       "    <tr>\n",
       "      <th>5</th>\n",
       "      <td>pct_MrdCple_HHD_ACS_08_12</td>\n",
       "      <td>0.022734</td>\n",
       "    </tr>\n",
       "    <tr>\n",
       "      <th>19</th>\n",
       "      <td>pct_NonFamily_HHD_CEN_2010</td>\n",
       "      <td>0.022619</td>\n",
       "    </tr>\n",
       "    <tr>\n",
       "      <th>16</th>\n",
       "      <td>pct_Renter_Occp_HU_ACS_08_12</td>\n",
       "      <td>0.022163</td>\n",
       "    </tr>\n",
       "    <tr>\n",
       "      <th>10</th>\n",
       "      <td>pct_Rel_Family_HHDS_CEN_2010</td>\n",
       "      <td>0.021774</td>\n",
       "    </tr>\n",
       "    <tr>\n",
       "      <th>17</th>\n",
       "      <td>pct_Renter_Occp_HU_CEN_2010</td>\n",
       "      <td>0.021406</td>\n",
       "    </tr>\n",
       "    <tr>\n",
       "      <th>14</th>\n",
       "      <td>pct_US_Cit_Nat_ACS_08_12</td>\n",
       "      <td>0.021030</td>\n",
       "    </tr>\n",
       "    <tr>\n",
       "      <th>30</th>\n",
       "      <td>pct_Not_MrdCple_HHD_ACS_08_12</td>\n",
       "      <td>0.021029</td>\n",
       "    </tr>\n",
       "    <tr>\n",
       "      <th>11</th>\n",
       "      <td>pct_Owner_Occp_HU_CEN_2010</td>\n",
       "      <td>0.020457</td>\n",
       "    </tr>\n",
       "    <tr>\n",
       "      <th>23</th>\n",
       "      <td>pct_Civ_unemp_25_44_ACS_08_12</td>\n",
       "      <td>0.020308</td>\n",
       "    </tr>\n",
       "    <tr>\n",
       "      <th>8</th>\n",
       "      <td>pct_Civ_emp_25_44_ACS_08_12</td>\n",
       "      <td>0.020219</td>\n",
       "    </tr>\n",
       "    <tr>\n",
       "      <th>13</th>\n",
       "      <td>pct_Civ_emp_16_24_ACS_08_12</td>\n",
       "      <td>0.019855</td>\n",
       "    </tr>\n",
       "    <tr>\n",
       "      <th>9</th>\n",
       "      <td>pct_Rel_Family_HHD_ACS_08_12</td>\n",
       "      <td>0.019808</td>\n",
       "    </tr>\n",
       "    <tr>\n",
       "      <th>12</th>\n",
       "      <td>pct_Owner_Occp_HU_ACS_08_12</td>\n",
       "      <td>0.019201</td>\n",
       "    </tr>\n",
       "    <tr>\n",
       "      <th>15</th>\n",
       "      <td>pct_Civ_unemp_16_24_ACS_08_12</td>\n",
       "      <td>0.019057</td>\n",
       "    </tr>\n",
       "    <tr>\n",
       "      <th>18</th>\n",
       "      <td>pct_NO_PH_SRVC_ACS_08_12</td>\n",
       "      <td>0.019043</td>\n",
       "    </tr>\n",
       "    <tr>\n",
       "      <th>21</th>\n",
       "      <td>pct_Sngl_Prns_HHD_ACS_08_12</td>\n",
       "      <td>0.018653</td>\n",
       "    </tr>\n",
       "    <tr>\n",
       "      <th>20</th>\n",
       "      <td>pct_NonFamily_HHD_ACS_08_12</td>\n",
       "      <td>0.017652</td>\n",
       "    </tr>\n",
       "    <tr>\n",
       "      <th>31</th>\n",
       "      <td>pct_RURAL_POP_CEN_2010</td>\n",
       "      <td>0.017440</td>\n",
       "    </tr>\n",
       "    <tr>\n",
       "      <th>6</th>\n",
       "      <td>pct_URBANIZED_AREA_POP_CEN_2010</td>\n",
       "      <td>0.006027</td>\n",
       "    </tr>\n",
       "  </tbody>\n",
       "</table>\n",
       "</div>"
      ],
      "text/plain": [
       "                            feature  importance\n",
       "27        pct_Female_No_HB_CEN_2010    0.052376\n",
       "36       pct_Vacant_Units_ACS_08_12    0.047912\n",
       "1      pct_Tot_Occp_Units_ACS_08_12    0.045944\n",
       "2       pct_Tot_Occp_Units_CEN_2010    0.041215\n",
       "32        pct_Not_HS_Grad_ACS_08_12    0.036655\n",
       "35    pct_Prs_Blw_Pov_Lev_ACS_08_12    0.036091\n",
       "37           pct_No_Plumb_ACS_08_12    0.034098\n",
       "34        pct_Vacant_Units_CEN_2010    0.033056\n",
       "3             pct_College_ACS_08_12    0.030686\n",
       "24      pct_Civ_unemp_16p_ACS_08_12    0.029888\n",
       "7         pct_Civ_emp_16p_ACS_08_12    0.029389\n",
       "4          pct_MrdCple_HHD_CEN_2010    0.029356\n",
       "33     pct_Not_MrdCple_HHD_CEN_2010    0.027173\n",
       "25       pct_Female_No_HB_ACS_08_12    0.026970\n",
       "26       pct_Crowd_Occp_U_ACS_08_12    0.026612\n",
       "22       pct_Sngl_Prns_HHD_CEN_2010    0.026429\n",
       "28       pct_PUB_ASST_INC_ACS_08_12    0.026348\n",
       "0             Med_HHD_Inc_ACS_08_12    0.026079\n",
       "29       pct_Mobile_Homes_ACS_08_12    0.023246\n",
       "5         pct_MrdCple_HHD_ACS_08_12    0.022734\n",
       "19       pct_NonFamily_HHD_CEN_2010    0.022619\n",
       "16     pct_Renter_Occp_HU_ACS_08_12    0.022163\n",
       "10     pct_Rel_Family_HHDS_CEN_2010    0.021774\n",
       "17      pct_Renter_Occp_HU_CEN_2010    0.021406\n",
       "14         pct_US_Cit_Nat_ACS_08_12    0.021030\n",
       "30    pct_Not_MrdCple_HHD_ACS_08_12    0.021029\n",
       "11       pct_Owner_Occp_HU_CEN_2010    0.020457\n",
       "23    pct_Civ_unemp_25_44_ACS_08_12    0.020308\n",
       "8       pct_Civ_emp_25_44_ACS_08_12    0.020219\n",
       "13      pct_Civ_emp_16_24_ACS_08_12    0.019855\n",
       "9      pct_Rel_Family_HHD_ACS_08_12    0.019808\n",
       "12      pct_Owner_Occp_HU_ACS_08_12    0.019201\n",
       "15    pct_Civ_unemp_16_24_ACS_08_12    0.019057\n",
       "18         pct_NO_PH_SRVC_ACS_08_12    0.019043\n",
       "21      pct_Sngl_Prns_HHD_ACS_08_12    0.018653\n",
       "20      pct_NonFamily_HHD_ACS_08_12    0.017652\n",
       "31           pct_RURAL_POP_CEN_2010    0.017440\n",
       "6   pct_URBANIZED_AREA_POP_CEN_2010    0.006027"
      ]
     },
     "execution_count": 223,
     "metadata": {},
     "output_type": "execute_result"
    }
   ],
   "source": [
    "rf_best = gs_rf.best_estimator_\n",
    "best_features = rf_best.feature_importances_\n",
    "pd.DataFrame(best_features)\n",
    "\n",
    "fi = pd.DataFrame({\n",
    "        'feature':X.columns,\n",
    "        'importance':rf_best.feature_importances_\n",
    "    })\n",
    "\n",
    "fi.sort_values('importance', ascending=False, inplace=True)\n",
    "fi"
   ]
  },
  {
   "cell_type": "markdown",
   "metadata": {},
   "source": [
    "### Classification Models\n",
    "For these, I created a target variable, grad_categories, where grad rates above the mean were classified as 1, and rates below the mean were classified as 0. The value counts show a fairly balanced split between 0's and 1's.\n",
    "\n",
    "The average graduation rate is 83%, and all the classification models I ran failed to get even close to that level. The best accuracy score was only in the mid 60%. "
   ]
  },
  {
   "cell_type": "code",
   "execution_count": 224,
   "metadata": {
    "scrolled": true
   },
   "outputs": [
    {
     "data": {
      "text/plain": [
       "1    5564\n",
       "0    4031\n",
       "Name: grad_categories, dtype: int64"
      ]
     },
     "execution_count": 224,
     "metadata": {},
     "output_type": "execute_result"
    }
   ],
   "source": [
    "grad['grad_categories'].value_counts()"
   ]
  },
  {
   "cell_type": "code",
   "execution_count": 225,
   "metadata": {},
   "outputs": [
    {
     "data": {
      "text/plain": [
       "83.06748306409588"
      ]
     },
     "execution_count": 225,
     "metadata": {},
     "output_type": "execute_result"
    }
   ],
   "source": [
    "grad['ALL_RATE_1112'].mean()"
   ]
  },
  {
   "cell_type": "code",
   "execution_count": 226,
   "metadata": {
    "collapsed": true
   },
   "outputs": [],
   "source": [
    "y = grad['grad_categories']\n",
    "features = ['Med_HHD_Inc_ACS_08_12', 'pct_Tot_Occp_Units_ACS_08_12', 'pct_Tot_Occp_Units_CEN_2010',\n",
    "            'pct_College_ACS_08_12','pct_MrdCple_HHD_CEN_2010','pct_MrdCple_HHD_ACS_08_12',\n",
    "            'pct_URBANIZED_AREA_POP_CEN_2010','pct_Civ_emp_16p_ACS_08_12','pct_Civ_emp_25_44_ACS_08_12',\n",
    "            'pct_Rel_Family_HHD_ACS_08_12','pct_Rel_Family_HHDS_CEN_2010','pct_Owner_Occp_HU_CEN_2010',\n",
    "            'pct_Owner_Occp_HU_ACS_08_12','pct_Civ_emp_16_24_ACS_08_12','pct_US_Cit_Nat_ACS_08_12',\n",
    "            'pct_Civ_unemp_16_24_ACS_08_12','pct_Renter_Occp_HU_ACS_08_12','pct_Renter_Occp_HU_CEN_2010',\n",
    "            'pct_NO_PH_SRVC_ACS_08_12','pct_NonFamily_HHD_CEN_2010','pct_NonFamily_HHD_ACS_08_12',\n",
    "            'pct_Sngl_Prns_HHD_ACS_08_12','pct_Sngl_Prns_HHD_CEN_2010','pct_Civ_unemp_25_44_ACS_08_12',\n",
    "            'pct_Civ_unemp_16p_ACS_08_12','pct_Female_No_HB_ACS_08_12','pct_Crowd_Occp_U_ACS_08_12',\n",
    "            'pct_Female_No_HB_CEN_2010','pct_PUB_ASST_INC_ACS_08_12','pct_Mobile_Homes_ACS_08_12',\n",
    "            'pct_Not_MrdCple_HHD_ACS_08_12','pct_RURAL_POP_CEN_2010','pct_Not_HS_Grad_ACS_08_12',\n",
    "            'pct_Not_MrdCple_HHD_CEN_2010','pct_Vacant_Units_CEN_2010','pct_Prs_Blw_Pov_Lev_ACS_08_12', \n",
    "            'pct_Vacant_Units_ACS_08_12','pct_No_Plumb_ACS_08_12']\n",
    "X = features_to_use[features]"
   ]
  },
  {
   "cell_type": "code",
   "execution_count": 227,
   "metadata": {
    "collapsed": true
   },
   "outputs": [],
   "source": [
    "X_train, X_test, y_train, y_test = train_test_split(X, y, test_size = .4, random_state = 42)"
   ]
  },
  {
   "cell_type": "code",
   "execution_count": 228,
   "metadata": {
    "collapsed": true
   },
   "outputs": [],
   "source": [
    "X_train_scaled = ss.fit_transform(X_train)\n",
    "X_test_scaled = ss.transform(X_test)"
   ]
  },
  {
   "cell_type": "markdown",
   "metadata": {},
   "source": [
    "### Logistic Regression"
   ]
  },
  {
   "cell_type": "code",
   "execution_count": 229,
   "metadata": {
    "collapsed": true
   },
   "outputs": [],
   "source": [
    "from sklearn.linear_model import LinearRegression, LogisticRegression\n",
    "from sklearn.metrics import confusion_matrix\n",
    "logr = LogisticRegression()"
   ]
  },
  {
   "cell_type": "code",
   "execution_count": 230,
   "metadata": {},
   "outputs": [
    {
     "data": {
      "text/plain": [
       "0.6588500955358694"
      ]
     },
     "execution_count": 230,
     "metadata": {},
     "output_type": "execute_result"
    }
   ],
   "source": [
    "logr.fit(X_train_scaled, y_train)\n",
    "train_model = logr.score(X_train_scaled, y_train)\n",
    "train_model"
   ]
  },
  {
   "cell_type": "code",
   "execution_count": 231,
   "metadata": {},
   "outputs": [
    {
     "data": {
      "text/plain": [
       "0.6490359562272017"
      ]
     },
     "execution_count": 231,
     "metadata": {},
     "output_type": "execute_result"
    }
   ],
   "source": [
    "test_model_score = logr.score(X_test_scaled,y_test)\n",
    "test_model_score"
   ]
  },
  {
   "cell_type": "code",
   "execution_count": 232,
   "metadata": {
    "collapsed": true
   },
   "outputs": [],
   "source": [
    "predictions = logr.predict(X_test_scaled)"
   ]
  },
  {
   "cell_type": "markdown",
   "metadata": {},
   "source": [
    "I think this confusion matrix is saying that the model does better at correctly predicting true low graduations (1743) than true high graduation rates (748). "
   ]
  },
  {
   "cell_type": "code",
   "execution_count": 233,
   "metadata": {
    "scrolled": true
   },
   "outputs": [
    {
     "data": {
      "text/plain": [
       "array([[ 748,  857],\n",
       "       [ 490, 1743]])"
      ]
     },
     "execution_count": 233,
     "metadata": {},
     "output_type": "execute_result"
    }
   ],
   "source": [
    "cm = confusion_matrix(y_test, predictions)\n",
    "cm"
   ]
  },
  {
   "cell_type": "code",
   "execution_count": null,
   "metadata": {
    "collapsed": true
   },
   "outputs": [],
   "source": []
  },
  {
   "cell_type": "markdown",
   "metadata": {},
   "source": [
    "### Decision Tree Classification"
   ]
  },
  {
   "cell_type": "code",
   "execution_count": 234,
   "metadata": {
    "collapsed": true
   },
   "outputs": [],
   "source": [
    "dtr_params = {\n",
    "    'max_depth':[None,1,2,3,4],\n",
    "    'max_features':[None,'log2','sqrt',2,3,4,5],\n",
    "    'min_samples_split':[2,3,4,5,10,15,20,25,30,40,50]\n",
    "}\n",
    "\n",
    "dtc_gs = GridSearchCV(DecisionTreeClassifier(), dtr_params, cv=5, verbose=1)"
   ]
  },
  {
   "cell_type": "code",
   "execution_count": 235,
   "metadata": {},
   "outputs": [
    {
     "name": "stdout",
     "output_type": "stream",
     "text": [
      "Fitting 5 folds for each of 385 candidates, totalling 1925 fits\n",
      "{'max_depth': 3, 'max_features': 'sqrt', 'min_samples_split': 30}\n",
      "0.6571130797290256\n"
     ]
    },
    {
     "name": "stderr",
     "output_type": "stream",
     "text": [
      "[Parallel(n_jobs=1)]: Done 1925 out of 1925 | elapsed:   45.4s finished\n"
     ]
    }
   ],
   "source": [
    "dtc_gs.fit(X_train, y_train)\n",
    "print(dtc_gs.best_params_)\n",
    "print(dtc_gs.best_score_)"
   ]
  },
  {
   "cell_type": "code",
   "execution_count": 236,
   "metadata": {},
   "outputs": [
    {
     "data": {
      "text/plain": [
       "0.6474726420010423"
      ]
     },
     "execution_count": 236,
     "metadata": {},
     "output_type": "execute_result"
    }
   ],
   "source": [
    "dtc_gs.score(X_test, y_test)"
   ]
  },
  {
   "cell_type": "code",
   "execution_count": 237,
   "metadata": {
    "scrolled": true
   },
   "outputs": [
    {
     "data": {
      "text/html": [
       "<div>\n",
       "<style>\n",
       "    .dataframe thead tr:only-child th {\n",
       "        text-align: right;\n",
       "    }\n",
       "\n",
       "    .dataframe thead th {\n",
       "        text-align: left;\n",
       "    }\n",
       "\n",
       "    .dataframe tbody tr th {\n",
       "        vertical-align: top;\n",
       "    }\n",
       "</style>\n",
       "<table border=\"1\" class=\"dataframe\">\n",
       "  <thead>\n",
       "    <tr style=\"text-align: right;\">\n",
       "      <th></th>\n",
       "      <th>feature</th>\n",
       "      <th>importance</th>\n",
       "    </tr>\n",
       "  </thead>\n",
       "  <tbody>\n",
       "    <tr>\n",
       "      <th>1</th>\n",
       "      <td>pct_Tot_Occp_Units_ACS_08_12</td>\n",
       "      <td>0.439413</td>\n",
       "    </tr>\n",
       "    <tr>\n",
       "      <th>5</th>\n",
       "      <td>pct_MrdCple_HHD_ACS_08_12</td>\n",
       "      <td>0.156529</td>\n",
       "    </tr>\n",
       "    <tr>\n",
       "      <th>34</th>\n",
       "      <td>pct_Vacant_Units_CEN_2010</td>\n",
       "      <td>0.138270</td>\n",
       "    </tr>\n",
       "    <tr>\n",
       "      <th>33</th>\n",
       "      <td>pct_Not_MrdCple_HHD_CEN_2010</td>\n",
       "      <td>0.090548</td>\n",
       "    </tr>\n",
       "    <tr>\n",
       "      <th>7</th>\n",
       "      <td>pct_Civ_emp_16p_ACS_08_12</td>\n",
       "      <td>0.083948</td>\n",
       "    </tr>\n",
       "    <tr>\n",
       "      <th>32</th>\n",
       "      <td>pct_Not_HS_Grad_ACS_08_12</td>\n",
       "      <td>0.054601</td>\n",
       "    </tr>\n",
       "    <tr>\n",
       "      <th>37</th>\n",
       "      <td>pct_No_Plumb_ACS_08_12</td>\n",
       "      <td>0.036691</td>\n",
       "    </tr>\n",
       "    <tr>\n",
       "      <th>35</th>\n",
       "      <td>pct_Prs_Blw_Pov_Lev_ACS_08_12</td>\n",
       "      <td>0.000000</td>\n",
       "    </tr>\n",
       "    <tr>\n",
       "      <th>36</th>\n",
       "      <td>pct_Vacant_Units_ACS_08_12</td>\n",
       "      <td>0.000000</td>\n",
       "    </tr>\n",
       "    <tr>\n",
       "      <th>31</th>\n",
       "      <td>pct_RURAL_POP_CEN_2010</td>\n",
       "      <td>0.000000</td>\n",
       "    </tr>\n",
       "    <tr>\n",
       "      <th>21</th>\n",
       "      <td>pct_Sngl_Prns_HHD_ACS_08_12</td>\n",
       "      <td>0.000000</td>\n",
       "    </tr>\n",
       "    <tr>\n",
       "      <th>29</th>\n",
       "      <td>pct_Mobile_Homes_ACS_08_12</td>\n",
       "      <td>0.000000</td>\n",
       "    </tr>\n",
       "    <tr>\n",
       "      <th>28</th>\n",
       "      <td>pct_PUB_ASST_INC_ACS_08_12</td>\n",
       "      <td>0.000000</td>\n",
       "    </tr>\n",
       "    <tr>\n",
       "      <th>27</th>\n",
       "      <td>pct_Female_No_HB_CEN_2010</td>\n",
       "      <td>0.000000</td>\n",
       "    </tr>\n",
       "    <tr>\n",
       "      <th>26</th>\n",
       "      <td>pct_Crowd_Occp_U_ACS_08_12</td>\n",
       "      <td>0.000000</td>\n",
       "    </tr>\n",
       "    <tr>\n",
       "      <th>25</th>\n",
       "      <td>pct_Female_No_HB_ACS_08_12</td>\n",
       "      <td>0.000000</td>\n",
       "    </tr>\n",
       "    <tr>\n",
       "      <th>24</th>\n",
       "      <td>pct_Civ_unemp_16p_ACS_08_12</td>\n",
       "      <td>0.000000</td>\n",
       "    </tr>\n",
       "    <tr>\n",
       "      <th>23</th>\n",
       "      <td>pct_Civ_unemp_25_44_ACS_08_12</td>\n",
       "      <td>0.000000</td>\n",
       "    </tr>\n",
       "    <tr>\n",
       "      <th>22</th>\n",
       "      <td>pct_Sngl_Prns_HHD_CEN_2010</td>\n",
       "      <td>0.000000</td>\n",
       "    </tr>\n",
       "    <tr>\n",
       "      <th>30</th>\n",
       "      <td>pct_Not_MrdCple_HHD_ACS_08_12</td>\n",
       "      <td>0.000000</td>\n",
       "    </tr>\n",
       "    <tr>\n",
       "      <th>0</th>\n",
       "      <td>Med_HHD_Inc_ACS_08_12</td>\n",
       "      <td>0.000000</td>\n",
       "    </tr>\n",
       "    <tr>\n",
       "      <th>20</th>\n",
       "      <td>pct_NonFamily_HHD_ACS_08_12</td>\n",
       "      <td>0.000000</td>\n",
       "    </tr>\n",
       "    <tr>\n",
       "      <th>10</th>\n",
       "      <td>pct_Rel_Family_HHDS_CEN_2010</td>\n",
       "      <td>0.000000</td>\n",
       "    </tr>\n",
       "    <tr>\n",
       "      <th>2</th>\n",
       "      <td>pct_Tot_Occp_Units_CEN_2010</td>\n",
       "      <td>0.000000</td>\n",
       "    </tr>\n",
       "    <tr>\n",
       "      <th>3</th>\n",
       "      <td>pct_College_ACS_08_12</td>\n",
       "      <td>0.000000</td>\n",
       "    </tr>\n",
       "    <tr>\n",
       "      <th>4</th>\n",
       "      <td>pct_MrdCple_HHD_CEN_2010</td>\n",
       "      <td>0.000000</td>\n",
       "    </tr>\n",
       "    <tr>\n",
       "      <th>6</th>\n",
       "      <td>pct_URBANIZED_AREA_POP_CEN_2010</td>\n",
       "      <td>0.000000</td>\n",
       "    </tr>\n",
       "    <tr>\n",
       "      <th>8</th>\n",
       "      <td>pct_Civ_emp_25_44_ACS_08_12</td>\n",
       "      <td>0.000000</td>\n",
       "    </tr>\n",
       "    <tr>\n",
       "      <th>9</th>\n",
       "      <td>pct_Rel_Family_HHD_ACS_08_12</td>\n",
       "      <td>0.000000</td>\n",
       "    </tr>\n",
       "    <tr>\n",
       "      <th>11</th>\n",
       "      <td>pct_Owner_Occp_HU_CEN_2010</td>\n",
       "      <td>0.000000</td>\n",
       "    </tr>\n",
       "    <tr>\n",
       "      <th>18</th>\n",
       "      <td>pct_NO_PH_SRVC_ACS_08_12</td>\n",
       "      <td>0.000000</td>\n",
       "    </tr>\n",
       "    <tr>\n",
       "      <th>12</th>\n",
       "      <td>pct_Owner_Occp_HU_ACS_08_12</td>\n",
       "      <td>0.000000</td>\n",
       "    </tr>\n",
       "    <tr>\n",
       "      <th>13</th>\n",
       "      <td>pct_Civ_emp_16_24_ACS_08_12</td>\n",
       "      <td>0.000000</td>\n",
       "    </tr>\n",
       "    <tr>\n",
       "      <th>14</th>\n",
       "      <td>pct_US_Cit_Nat_ACS_08_12</td>\n",
       "      <td>0.000000</td>\n",
       "    </tr>\n",
       "    <tr>\n",
       "      <th>15</th>\n",
       "      <td>pct_Civ_unemp_16_24_ACS_08_12</td>\n",
       "      <td>0.000000</td>\n",
       "    </tr>\n",
       "    <tr>\n",
       "      <th>16</th>\n",
       "      <td>pct_Renter_Occp_HU_ACS_08_12</td>\n",
       "      <td>0.000000</td>\n",
       "    </tr>\n",
       "    <tr>\n",
       "      <th>17</th>\n",
       "      <td>pct_Renter_Occp_HU_CEN_2010</td>\n",
       "      <td>0.000000</td>\n",
       "    </tr>\n",
       "    <tr>\n",
       "      <th>19</th>\n",
       "      <td>pct_NonFamily_HHD_CEN_2010</td>\n",
       "      <td>0.000000</td>\n",
       "    </tr>\n",
       "  </tbody>\n",
       "</table>\n",
       "</div>"
      ],
      "text/plain": [
       "                            feature  importance\n",
       "1      pct_Tot_Occp_Units_ACS_08_12    0.439413\n",
       "5         pct_MrdCple_HHD_ACS_08_12    0.156529\n",
       "34        pct_Vacant_Units_CEN_2010    0.138270\n",
       "33     pct_Not_MrdCple_HHD_CEN_2010    0.090548\n",
       "7         pct_Civ_emp_16p_ACS_08_12    0.083948\n",
       "32        pct_Not_HS_Grad_ACS_08_12    0.054601\n",
       "37           pct_No_Plumb_ACS_08_12    0.036691\n",
       "35    pct_Prs_Blw_Pov_Lev_ACS_08_12    0.000000\n",
       "36       pct_Vacant_Units_ACS_08_12    0.000000\n",
       "31           pct_RURAL_POP_CEN_2010    0.000000\n",
       "21      pct_Sngl_Prns_HHD_ACS_08_12    0.000000\n",
       "29       pct_Mobile_Homes_ACS_08_12    0.000000\n",
       "28       pct_PUB_ASST_INC_ACS_08_12    0.000000\n",
       "27        pct_Female_No_HB_CEN_2010    0.000000\n",
       "26       pct_Crowd_Occp_U_ACS_08_12    0.000000\n",
       "25       pct_Female_No_HB_ACS_08_12    0.000000\n",
       "24      pct_Civ_unemp_16p_ACS_08_12    0.000000\n",
       "23    pct_Civ_unemp_25_44_ACS_08_12    0.000000\n",
       "22       pct_Sngl_Prns_HHD_CEN_2010    0.000000\n",
       "30    pct_Not_MrdCple_HHD_ACS_08_12    0.000000\n",
       "0             Med_HHD_Inc_ACS_08_12    0.000000\n",
       "20      pct_NonFamily_HHD_ACS_08_12    0.000000\n",
       "10     pct_Rel_Family_HHDS_CEN_2010    0.000000\n",
       "2       pct_Tot_Occp_Units_CEN_2010    0.000000\n",
       "3             pct_College_ACS_08_12    0.000000\n",
       "4          pct_MrdCple_HHD_CEN_2010    0.000000\n",
       "6   pct_URBANIZED_AREA_POP_CEN_2010    0.000000\n",
       "8       pct_Civ_emp_25_44_ACS_08_12    0.000000\n",
       "9      pct_Rel_Family_HHD_ACS_08_12    0.000000\n",
       "11       pct_Owner_Occp_HU_CEN_2010    0.000000\n",
       "18         pct_NO_PH_SRVC_ACS_08_12    0.000000\n",
       "12      pct_Owner_Occp_HU_ACS_08_12    0.000000\n",
       "13      pct_Civ_emp_16_24_ACS_08_12    0.000000\n",
       "14         pct_US_Cit_Nat_ACS_08_12    0.000000\n",
       "15    pct_Civ_unemp_16_24_ACS_08_12    0.000000\n",
       "16     pct_Renter_Occp_HU_ACS_08_12    0.000000\n",
       "17      pct_Renter_Occp_HU_CEN_2010    0.000000\n",
       "19       pct_NonFamily_HHD_CEN_2010    0.000000"
      ]
     },
     "execution_count": 237,
     "metadata": {},
     "output_type": "execute_result"
    }
   ],
   "source": [
    "dtc_best = dtc_gs.best_estimator_\n",
    "best_features = dtc_best.feature_importances_\n",
    "pd.DataFrame(best_features)\n",
    "\n",
    "fi = pd.DataFrame({\n",
    "        'feature':X.columns,\n",
    "        'importance':dtc_best.feature_importances_\n",
    "    })\n",
    "\n",
    "fi.sort_values('importance', ascending=False, inplace=True)\n",
    "fi"
   ]
  },
  {
   "cell_type": "markdown",
   "metadata": {},
   "source": [
    "### Random Forest Classification"
   ]
  },
  {
   "cell_type": "code",
   "execution_count": 238,
   "metadata": {},
   "outputs": [
    {
     "name": "stdout",
     "output_type": "stream",
     "text": [
      "0.6746569393781483\n",
      "{'max_depth': None, 'max_features': 'auto', 'n_estimators': 25}\n"
     ]
    }
   ],
   "source": [
    "from sklearn.ensemble import BaggingRegressor, RandomForestRegressor, RandomForestClassifier\n",
    "rf = RandomForestClassifier(random_state = 42)\n",
    "rf_params ={\n",
    "    'n_estimators': [5, 10, 15, 20, 25],\n",
    "    'max_depth': [None, 1, 2, 3],\n",
    "    'max_features': ['auto', 'log2'],\n",
    "}\n",
    "gs_rf = GridSearchCV(rf, rf_params)\n",
    "gs_rf.fit(X_train, y_train)\n",
    "print(gs_rf.best_score_)\n",
    "print(gs_rf.best_params_)"
   ]
  },
  {
   "cell_type": "code",
   "execution_count": 239,
   "metadata": {},
   "outputs": [
    {
     "data": {
      "text/plain": [
       "0.6685773840541949"
      ]
     },
     "execution_count": 239,
     "metadata": {},
     "output_type": "execute_result"
    }
   ],
   "source": [
    "gs_rf.score(X_test, y_test)"
   ]
  },
  {
   "cell_type": "code",
   "execution_count": 240,
   "metadata": {
    "scrolled": true
   },
   "outputs": [
    {
     "data": {
      "text/html": [
       "<div>\n",
       "<style>\n",
       "    .dataframe thead tr:only-child th {\n",
       "        text-align: right;\n",
       "    }\n",
       "\n",
       "    .dataframe thead th {\n",
       "        text-align: left;\n",
       "    }\n",
       "\n",
       "    .dataframe tbody tr th {\n",
       "        vertical-align: top;\n",
       "    }\n",
       "</style>\n",
       "<table border=\"1\" class=\"dataframe\">\n",
       "  <thead>\n",
       "    <tr style=\"text-align: right;\">\n",
       "      <th></th>\n",
       "      <th>feature</th>\n",
       "      <th>importance</th>\n",
       "    </tr>\n",
       "  </thead>\n",
       "  <tbody>\n",
       "    <tr>\n",
       "      <th>27</th>\n",
       "      <td>pct_Female_No_HB_CEN_2010</td>\n",
       "      <td>0.052891</td>\n",
       "    </tr>\n",
       "    <tr>\n",
       "      <th>36</th>\n",
       "      <td>pct_Vacant_Units_ACS_08_12</td>\n",
       "      <td>0.040580</td>\n",
       "    </tr>\n",
       "    <tr>\n",
       "      <th>35</th>\n",
       "      <td>pct_Prs_Blw_Pov_Lev_ACS_08_12</td>\n",
       "      <td>0.037309</td>\n",
       "    </tr>\n",
       "    <tr>\n",
       "      <th>0</th>\n",
       "      <td>Med_HHD_Inc_ACS_08_12</td>\n",
       "      <td>0.037240</td>\n",
       "    </tr>\n",
       "    <tr>\n",
       "      <th>32</th>\n",
       "      <td>pct_Not_HS_Grad_ACS_08_12</td>\n",
       "      <td>0.035969</td>\n",
       "    </tr>\n",
       "    <tr>\n",
       "      <th>1</th>\n",
       "      <td>pct_Tot_Occp_Units_ACS_08_12</td>\n",
       "      <td>0.035036</td>\n",
       "    </tr>\n",
       "    <tr>\n",
       "      <th>2</th>\n",
       "      <td>pct_Tot_Occp_Units_CEN_2010</td>\n",
       "      <td>0.034149</td>\n",
       "    </tr>\n",
       "    <tr>\n",
       "      <th>3</th>\n",
       "      <td>pct_College_ACS_08_12</td>\n",
       "      <td>0.033255</td>\n",
       "    </tr>\n",
       "    <tr>\n",
       "      <th>33</th>\n",
       "      <td>pct_Not_MrdCple_HHD_CEN_2010</td>\n",
       "      <td>0.028976</td>\n",
       "    </tr>\n",
       "    <tr>\n",
       "      <th>24</th>\n",
       "      <td>pct_Civ_unemp_16p_ACS_08_12</td>\n",
       "      <td>0.028825</td>\n",
       "    </tr>\n",
       "    <tr>\n",
       "      <th>34</th>\n",
       "      <td>pct_Vacant_Units_CEN_2010</td>\n",
       "      <td>0.028435</td>\n",
       "    </tr>\n",
       "    <tr>\n",
       "      <th>29</th>\n",
       "      <td>pct_Mobile_Homes_ACS_08_12</td>\n",
       "      <td>0.027834</td>\n",
       "    </tr>\n",
       "    <tr>\n",
       "      <th>25</th>\n",
       "      <td>pct_Female_No_HB_ACS_08_12</td>\n",
       "      <td>0.027727</td>\n",
       "    </tr>\n",
       "    <tr>\n",
       "      <th>4</th>\n",
       "      <td>pct_MrdCple_HHD_CEN_2010</td>\n",
       "      <td>0.027155</td>\n",
       "    </tr>\n",
       "    <tr>\n",
       "      <th>37</th>\n",
       "      <td>pct_No_Plumb_ACS_08_12</td>\n",
       "      <td>0.027067</td>\n",
       "    </tr>\n",
       "    <tr>\n",
       "      <th>28</th>\n",
       "      <td>pct_PUB_ASST_INC_ACS_08_12</td>\n",
       "      <td>0.026536</td>\n",
       "    </tr>\n",
       "    <tr>\n",
       "      <th>7</th>\n",
       "      <td>pct_Civ_emp_16p_ACS_08_12</td>\n",
       "      <td>0.026384</td>\n",
       "    </tr>\n",
       "    <tr>\n",
       "      <th>14</th>\n",
       "      <td>pct_US_Cit_Nat_ACS_08_12</td>\n",
       "      <td>0.025754</td>\n",
       "    </tr>\n",
       "    <tr>\n",
       "      <th>30</th>\n",
       "      <td>pct_Not_MrdCple_HHD_ACS_08_12</td>\n",
       "      <td>0.025227</td>\n",
       "    </tr>\n",
       "    <tr>\n",
       "      <th>18</th>\n",
       "      <td>pct_NO_PH_SRVC_ACS_08_12</td>\n",
       "      <td>0.025032</td>\n",
       "    </tr>\n",
       "    <tr>\n",
       "      <th>15</th>\n",
       "      <td>pct_Civ_unemp_16_24_ACS_08_12</td>\n",
       "      <td>0.024846</td>\n",
       "    </tr>\n",
       "    <tr>\n",
       "      <th>5</th>\n",
       "      <td>pct_MrdCple_HHD_ACS_08_12</td>\n",
       "      <td>0.023875</td>\n",
       "    </tr>\n",
       "    <tr>\n",
       "      <th>12</th>\n",
       "      <td>pct_Owner_Occp_HU_ACS_08_12</td>\n",
       "      <td>0.023587</td>\n",
       "    </tr>\n",
       "    <tr>\n",
       "      <th>8</th>\n",
       "      <td>pct_Civ_emp_25_44_ACS_08_12</td>\n",
       "      <td>0.023250</td>\n",
       "    </tr>\n",
       "    <tr>\n",
       "      <th>19</th>\n",
       "      <td>pct_NonFamily_HHD_CEN_2010</td>\n",
       "      <td>0.022862</td>\n",
       "    </tr>\n",
       "    <tr>\n",
       "      <th>22</th>\n",
       "      <td>pct_Sngl_Prns_HHD_CEN_2010</td>\n",
       "      <td>0.022352</td>\n",
       "    </tr>\n",
       "    <tr>\n",
       "      <th>21</th>\n",
       "      <td>pct_Sngl_Prns_HHD_ACS_08_12</td>\n",
       "      <td>0.022189</td>\n",
       "    </tr>\n",
       "    <tr>\n",
       "      <th>17</th>\n",
       "      <td>pct_Renter_Occp_HU_CEN_2010</td>\n",
       "      <td>0.021941</td>\n",
       "    </tr>\n",
       "    <tr>\n",
       "      <th>13</th>\n",
       "      <td>pct_Civ_emp_16_24_ACS_08_12</td>\n",
       "      <td>0.021549</td>\n",
       "    </tr>\n",
       "    <tr>\n",
       "      <th>20</th>\n",
       "      <td>pct_NonFamily_HHD_ACS_08_12</td>\n",
       "      <td>0.021523</td>\n",
       "    </tr>\n",
       "    <tr>\n",
       "      <th>26</th>\n",
       "      <td>pct_Crowd_Occp_U_ACS_08_12</td>\n",
       "      <td>0.021340</td>\n",
       "    </tr>\n",
       "    <tr>\n",
       "      <th>16</th>\n",
       "      <td>pct_Renter_Occp_HU_ACS_08_12</td>\n",
       "      <td>0.021312</td>\n",
       "    </tr>\n",
       "    <tr>\n",
       "      <th>10</th>\n",
       "      <td>pct_Rel_Family_HHDS_CEN_2010</td>\n",
       "      <td>0.021144</td>\n",
       "    </tr>\n",
       "    <tr>\n",
       "      <th>11</th>\n",
       "      <td>pct_Owner_Occp_HU_CEN_2010</td>\n",
       "      <td>0.021141</td>\n",
       "    </tr>\n",
       "    <tr>\n",
       "      <th>23</th>\n",
       "      <td>pct_Civ_unemp_25_44_ACS_08_12</td>\n",
       "      <td>0.019281</td>\n",
       "    </tr>\n",
       "    <tr>\n",
       "      <th>9</th>\n",
       "      <td>pct_Rel_Family_HHD_ACS_08_12</td>\n",
       "      <td>0.017716</td>\n",
       "    </tr>\n",
       "    <tr>\n",
       "      <th>31</th>\n",
       "      <td>pct_RURAL_POP_CEN_2010</td>\n",
       "      <td>0.014876</td>\n",
       "    </tr>\n",
       "    <tr>\n",
       "      <th>6</th>\n",
       "      <td>pct_URBANIZED_AREA_POP_CEN_2010</td>\n",
       "      <td>0.003834</td>\n",
       "    </tr>\n",
       "  </tbody>\n",
       "</table>\n",
       "</div>"
      ],
      "text/plain": [
       "                            feature  importance\n",
       "27        pct_Female_No_HB_CEN_2010    0.052891\n",
       "36       pct_Vacant_Units_ACS_08_12    0.040580\n",
       "35    pct_Prs_Blw_Pov_Lev_ACS_08_12    0.037309\n",
       "0             Med_HHD_Inc_ACS_08_12    0.037240\n",
       "32        pct_Not_HS_Grad_ACS_08_12    0.035969\n",
       "1      pct_Tot_Occp_Units_ACS_08_12    0.035036\n",
       "2       pct_Tot_Occp_Units_CEN_2010    0.034149\n",
       "3             pct_College_ACS_08_12    0.033255\n",
       "33     pct_Not_MrdCple_HHD_CEN_2010    0.028976\n",
       "24      pct_Civ_unemp_16p_ACS_08_12    0.028825\n",
       "34        pct_Vacant_Units_CEN_2010    0.028435\n",
       "29       pct_Mobile_Homes_ACS_08_12    0.027834\n",
       "25       pct_Female_No_HB_ACS_08_12    0.027727\n",
       "4          pct_MrdCple_HHD_CEN_2010    0.027155\n",
       "37           pct_No_Plumb_ACS_08_12    0.027067\n",
       "28       pct_PUB_ASST_INC_ACS_08_12    0.026536\n",
       "7         pct_Civ_emp_16p_ACS_08_12    0.026384\n",
       "14         pct_US_Cit_Nat_ACS_08_12    0.025754\n",
       "30    pct_Not_MrdCple_HHD_ACS_08_12    0.025227\n",
       "18         pct_NO_PH_SRVC_ACS_08_12    0.025032\n",
       "15    pct_Civ_unemp_16_24_ACS_08_12    0.024846\n",
       "5         pct_MrdCple_HHD_ACS_08_12    0.023875\n",
       "12      pct_Owner_Occp_HU_ACS_08_12    0.023587\n",
       "8       pct_Civ_emp_25_44_ACS_08_12    0.023250\n",
       "19       pct_NonFamily_HHD_CEN_2010    0.022862\n",
       "22       pct_Sngl_Prns_HHD_CEN_2010    0.022352\n",
       "21      pct_Sngl_Prns_HHD_ACS_08_12    0.022189\n",
       "17      pct_Renter_Occp_HU_CEN_2010    0.021941\n",
       "13      pct_Civ_emp_16_24_ACS_08_12    0.021549\n",
       "20      pct_NonFamily_HHD_ACS_08_12    0.021523\n",
       "26       pct_Crowd_Occp_U_ACS_08_12    0.021340\n",
       "16     pct_Renter_Occp_HU_ACS_08_12    0.021312\n",
       "10     pct_Rel_Family_HHDS_CEN_2010    0.021144\n",
       "11       pct_Owner_Occp_HU_CEN_2010    0.021141\n",
       "23    pct_Civ_unemp_25_44_ACS_08_12    0.019281\n",
       "9      pct_Rel_Family_HHD_ACS_08_12    0.017716\n",
       "31           pct_RURAL_POP_CEN_2010    0.014876\n",
       "6   pct_URBANIZED_AREA_POP_CEN_2010    0.003834"
      ]
     },
     "execution_count": 240,
     "metadata": {},
     "output_type": "execute_result"
    }
   ],
   "source": [
    "rf_best = gs_rf.best_estimator_\n",
    "best_features = rf_best.feature_importances_\n",
    "pd.DataFrame(best_features)\n",
    "\n",
    "fi = pd.DataFrame({\n",
    "        'feature':X.columns,\n",
    "        'importance':rf_best.feature_importances_\n",
    "    })\n",
    "\n",
    "fi.sort_values('importance', ascending=False, inplace=True)\n",
    "fi"
   ]
  },
  {
   "cell_type": "code",
   "execution_count": null,
   "metadata": {
    "collapsed": true
   },
   "outputs": [],
   "source": []
  },
  {
   "cell_type": "code",
   "execution_count": null,
   "metadata": {
    "collapsed": true
   },
   "outputs": [],
   "source": []
  },
  {
   "cell_type": "code",
   "execution_count": null,
   "metadata": {
    "collapsed": true
   },
   "outputs": [],
   "source": []
  }
 ],
 "metadata": {
  "kernelspec": {
   "display_name": "Python 3",
   "language": "python",
   "name": "python3"
  },
  "language_info": {
   "codemirror_mode": {
    "name": "ipython",
    "version": 3
   },
   "file_extension": ".py",
   "mimetype": "text/x-python",
   "name": "python",
   "nbconvert_exporter": "python",
   "pygments_lexer": "ipython3",
   "version": "3.6.3"
  }
 },
 "nbformat": 4,
 "nbformat_minor": 2
}
